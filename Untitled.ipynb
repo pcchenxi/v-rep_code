{
 "cells": [
  {
   "cell_type": "code",
   "execution_count": 8,
   "metadata": {
    "collapsed": false,
    "deletable": true,
    "editable": true
   },
   "outputs": [],
   "source": [
    "#!/usr/bin/env python\n",
    "import sys\n",
    "sys.path.append(\"./v-rep_files\") \n",
    "## v-rep\n",
    "import vrep\n",
    "## ompl\n",
    "#sys.path.insert(0, join(ompl_app_root, 'ompl/py-bindings' ) )\n",
    "from ompl import base as ob\n",
    "from ompl import geometric as og\n",
    "from ompl import control as oc\n",
    "from ompl import app as oa\n",
    "\n",
    "from time import sleep\n",
    "import math\n"
   ]
  },
  {
   "cell_type": "code",
   "execution_count": 9,
   "metadata": {
    "collapsed": true,
    "deletable": true,
    "editable": true
   },
   "outputs": [],
   "source": [
    "def connect_vrep():\n",
    "    print ('Program started')\n",
    "    vrep.simxFinish(-1) # just in case, close all opened connections\n",
    "    clientID = vrep.simxStart('127.0.0.1',19999,True,True,5000,5)\n",
    "    if clientID != -1:\n",
    "        print ('Connected to remote API server')\n",
    "    else:\n",
    "        print ('Failed connecting to remote API server')\n",
    "    return clientID"
   ]
  },
  {
   "cell_type": "code",
   "execution_count": 10,
   "metadata": {
    "collapsed": true,
    "deletable": true,
    "editable": true
   },
   "outputs": [],
   "source": [
    "def disconnect_vrep():\n",
    "    vrep.simxFinish(clientID)\n",
    "    print ('Program ended')"
   ]
  },
  {
   "cell_type": "code",
   "execution_count": 24,
   "metadata": {
    "collapsed": false,
    "deletable": true,
    "editable": true
   },
   "outputs": [
    {
     "name": "stdout",
     "output_type": "stream",
     "text": [
      "Program started\n",
      "Connected to remote API server\n",
      "('Number of objects in the scene: ', 119)\n",
      "[]\n",
      "[]\n",
      "[]\n",
      "\n"
     ]
    }
   ],
   "source": [
    "clientID = connect_vrep()\n",
    "res,objs=vrep.simxGetObjects(clientID,vrep.sim_handle_all,vrep.simx_opmode_oneshot_wait)\n",
    "if res == vrep.simx_return_ok:\n",
    "        print ('Number of objects in the scene: ', len(objs))\n",
    "else:\n",
    "        print ('Remote API function call returned with error code: ', res)\n",
    "        \n",
    "inputInts=[1,2,3]\n",
    "inputFloats=[53.21,17.39]\n",
    "inputStrings=['Hello','world!']\n",
    "inputBuffer=bytearray()\n",
    "res,retInts,retFloats,retStrings,retBuffer=vrep.simxCallScriptFunction(clientID,'rwRobot',vrep.sim_scripttype_childscript,\n",
    "                'isStateValid',inputInts,inputFloats,inputStrings,inputBuffer,vrep.simx_opmode_blocking)\n",
    "if res==vrep.simx_return_ok:\n",
    "    print (retInts)\n",
    "    print (retFloats)\n",
    "    print (retStrings)\n",
    "    print (retBuffer)"
   ]
  },
  {
   "cell_type": "code",
   "execution_count": 25,
   "metadata": {
    "collapsed": false
   },
   "outputs": [
    {
     "name": "stdout",
     "output_type": "stream",
     "text": [
      "Program ended\n"
     ]
    }
   ],
   "source": [
    "disconnect_vrep()"
   ]
  },
  {
   "cell_type": "code",
   "execution_count": 26,
   "metadata": {
    "collapsed": false,
    "deletable": true,
    "editable": true
   },
   "outputs": [
    {
     "name": "stdout",
     "output_type": "stream",
     "text": [
      "0 0 0 0 0 0\n",
      "4.95478 2.69586 0.996592 4.92469 0.167863 1.1942\n",
      "4.63839 -0.923251 1.9706 -4.22105 -0.25215 0.895652\n",
      "4.43184 -0.267867 1.78158 2.30508 -0.268044 0.298551\n",
      "1.77147 2.1528 3.02509 1.60755 0.313213 2.38841\n",
      "1.97394 2.13245 3.05778 -0.340816 -0.159261 0.597101\n",
      "2.07968 2.12659 3.11474 -0.177392 -0.493399 0.597101\n",
      "2.05101 2.12741 3.11148 0.0480467 -0.11313 0.597101\n",
      "2.02798 2.12811 3.11065 0.0771501 -0.0358101 0.298551\n",
      "2.01196 2.12862 3.10871 0.00895142 -0.120437 1.7913\n",
      "2.04168 2.12782 3.1202 -0.0995789 -0.368739 0.298551\n",
      "1.99026 2.12907 3.11415 0.0574186 -0.117137 0.895652\n",
      "2.04393 2.12839 -3.13947 -0.179789 -0.503494 0.298551\n",
      "2.02131 2.12844 3.1351 0.0189425 -0.363848 1.1942\n",
      "1.98648 2.12863 3.13709 0.0583375 0.0568704 0.597101\n",
      "1.98654 2.12863 3.1371 -0.000101842 -0.29038 0.597101\n",
      "2.00442 2.12857 3.13942 -0.059881 -0.128594 0.298551\n",
      "1.99926 2.12858 3.13989 0.0172738 0.0912032 0.298551\n",
      "1.99982 2.12858 3.13997 -0.000375732 -0.150431 1.49275\n",
      "2.01124 2.12857 -3.14148 -0.0382357 -0.150284 0.298551\n",
      "\n",
      "Solution is approximate. Distance to actual goal is 0.129118\n"
     ]
    }
   ],
   "source": [
    "\n",
    "setup = oa.KinematicCarPlanning()\n",
    "SE2 = setup.getStateSpace()\n",
    "\n",
    "bounds = ob.RealVectorBounds(2)\n",
    "bounds.setLow(-10)\n",
    "bounds.setHigh(10)\n",
    "SE2.setBounds(bounds)\n",
    "\n",
    "# define start state\n",
    "start = ob.State(SE2)\n",
    "start().setX(0)\n",
    "start().setY(0)\n",
    "start().setYaw(0)\n",
    "\n",
    "# define goal state\n",
    "goal = ob.State(SE2)\n",
    "goal().setX(2)\n",
    "goal().setY(2)\n",
    "goal().setYaw(math.pi)\n",
    "\n",
    "# set the start & goal states\n",
    "setup.setStartAndGoalStates(start, goal, .1)\n",
    "\n",
    "# set the planner\n",
    "planner = oc.RRT(setup.getSpaceInformation())\n",
    "setup.setPlanner(planner)\n",
    "\n",
    "# try to solve the problem\n",
    "if setup.solve(20):\n",
    "    # print the (approximate) solution path: print states along the path\n",
    "    # and controls required to get from one state to the next\n",
    "    path = setup.getSolutionPath()\n",
    "    #path.interpolate(); # uncomment if you want to plot the path\n",
    "    print(path.printAsMatrix())\n",
    "    if not setup.haveExactSolutionPath():\n",
    "        print(\"Solution is approximate. Distance to actual goal is %g\" %\n",
    "            setup.getProblemDefinition().getSolutionDifference())"
   ]
  },
  {
   "cell_type": "code",
   "execution_count": null,
   "metadata": {
    "collapsed": true,
    "deletable": true,
    "editable": true
   },
   "outputs": [],
   "source": []
  },
  {
   "cell_type": "code",
   "execution_count": null,
   "metadata": {
    "collapsed": true,
    "deletable": true,
    "editable": true
   },
   "outputs": [],
   "source": []
  }
 ],
 "metadata": {
  "kernelspec": {
   "display_name": "Python 2",
   "language": "python",
   "name": "python2"
  },
  "language_info": {
   "codemirror_mode": {
    "name": "ipython",
    "version": 2
   },
   "file_extension": ".py",
   "mimetype": "text/x-python",
   "name": "python",
   "nbconvert_exporter": "python",
   "pygments_lexer": "ipython2",
   "version": "2.7.6"
  }
 },
 "nbformat": 4,
 "nbformat_minor": 2
}
