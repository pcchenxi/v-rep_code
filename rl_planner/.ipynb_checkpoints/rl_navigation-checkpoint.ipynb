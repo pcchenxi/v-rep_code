{
 "cells": [
  {
   "cell_type": "code",
   "execution_count": 10,
   "metadata": {
    "collapsed": true
   },
   "outputs": [],
   "source": [
    "import sys\n",
    "sys.path.append(\"./environment\") \n",
    "\n",
    "import env_vrep\n"
   ]
  },
  {
   "cell_type": "code",
   "execution_count": 11,
   "metadata": {
    "collapsed": true
   },
   "outputs": [],
   "source": [
    "env_0 = env_vrep.Simu_env(10000)\n",
    "# env_1 = env_vrep.Simu_env(10001)"
   ]
  },
  {
   "cell_type": "code",
   "execution_count": 13,
   "metadata": {},
   "outputs": [
    {
     "name": "stdout",
     "output_type": "stream",
     "text": [
      "Connected to remote API server with port:  10000\n",
      "Connected to remote API server with port:  10001\n"
     ]
    }
   ],
   "source": [
    "env_0.connect_vrep(True)\n",
    "# env_1.connect_vrep()"
   ]
  },
  {
   "cell_type": "code",
   "execution_count": 14,
   "metadata": {},
   "outputs": [
    {
     "name": "stdout",
     "output_type": "stream",
     "text": [
      "0 0.114614360034\n",
      "[0.11461436003446579, 0.22922870516777039, 0.34384313225746155, 0.4584575891494751, 0]\n",
      "[0.11461436003446579, 0.22922870516777039, 0.34384313225746155, 0.4584575891494751, 0]\n",
      "0 0.0463540963829\n",
      "[0.09270824491977692, 0.13906264305114746, 0.18541675806045532, 0, 0]\n",
      "[0.09270824491977692, 0.13906264305114746, 0.18541675806045532, 0, 0]\n"
     ]
    }
   ],
   "source": [
    "new_laser, pose, path, reward, reached_index, is_finish = env_0.reset()\n",
    "# new_laser, pose, path, reward, reached_index, is_finish = env_1.reset()"
   ]
  },
  {
   "cell_type": "code",
   "execution_count": 16,
   "metadata": {},
   "outputs": [
    {
     "name": "stdout",
     "output_type": "stream",
     "text": [
      "old index:  -1\n",
      "0 0.0720038935542\n",
      "[0.1103018969297409, 0.15312053263187408, 0.1975417137145996, 0, 0]\n",
      "[0.1103018969297409, 0.15312053263187408, 0.1975417137145996, 0, 0]\n",
      "new index:  0\n",
      "reward:  -0.3\n"
     ]
    }
   ],
   "source": [
    "# print 'old index: ', reached_index \n",
    "state_, reward, is_finish, info = env_1.step([0,1,-1,0,0])\n",
    "# if is_finish:\n",
    "#     new_laser, pose, path, reward, reached_index, is_finish = env.reset()\n",
    "\n",
    "\n",
    "# print 'new index: ', reached_index\n",
    "print 'reward: ', reward"
   ]
  },
  {
   "cell_type": "code",
   "execution_count": 17,
   "metadata": {},
   "outputs": [
    {
     "name": "stdout",
     "output_type": "stream",
     "text": [
      "Program ended\n",
      "Program ended\n"
     ]
    }
   ],
   "source": [
    "env_0.disconnect_vrep()\n",
    "# env_1.disconnect_vrep()"
   ]
  },
  {
   "cell_type": "code",
   "execution_count": null,
   "metadata": {
    "collapsed": true
   },
   "outputs": [],
   "source": []
  }
 ],
 "metadata": {
  "kernelspec": {
   "display_name": "Python 2",
   "language": "python",
   "name": "python2"
  },
  "language_info": {
   "codemirror_mode": {
    "name": "ipython",
    "version": 2
   },
   "file_extension": ".py",
   "mimetype": "text/x-python",
   "name": "python",
   "nbconvert_exporter": "python",
   "pygments_lexer": "ipython2",
   "version": "2.7.6"
  }
 },
 "nbformat": 4,
 "nbformat_minor": 2
}
