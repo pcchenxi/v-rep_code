{
 "cells": [
  {
   "cell_type": "code",
   "execution_count": 1,
   "metadata": {
    "collapsed": false,
    "deletable": true,
    "editable": true
   },
   "outputs": [],
   "source": [
    "#!/usr/bin/env python\n",
    "import sys, os\n",
    "sys.path.append(\"../v-rep_plugin\") \n",
    "## v-rep\n",
    "import vrep\n",
    "\n",
    "import matplotlib.pyplot as plt\n",
    "\n",
    "from time import sleep\n",
    "import math\n",
    "\n",
    "import robot_controller\n"
   ]
  },
  {
   "cell_type": "code",
   "execution_count": 2,
   "metadata": {
    "collapsed": true,
    "deletable": true,
    "editable": true
   },
   "outputs": [],
   "source": [
    "def connect_vrep():\n",
    "    print ('Program started')\n",
    "    vrep.simxFinish(-1) # just in case, close all opened connections\n",
    "    clientID = vrep.simxStart('127.0.0.1',19999,True,True,5000,5)\n",
    "    if clientID != -1:\n",
    "        print ('Connected to remote API server')\n",
    "    else:\n",
    "        print ('Failed connecting to remote API server')\n",
    "    return clientID"
   ]
  },
  {
   "cell_type": "code",
   "execution_count": 3,
   "metadata": {
    "collapsed": true,
    "deletable": true,
    "editable": true
   },
   "outputs": [],
   "source": [
    "def disconnect_vrep():\n",
    "    vrep.simxFinish(clientID)\n",
    "    print ('Program ended')"
   ]
  },
  {
   "cell_type": "code",
   "execution_count": 29,
   "metadata": {
    "collapsed": false,
    "deletable": true,
    "editable": true
   },
   "outputs": [],
   "source": [
    "def call_sim_function(object_name, function_name, input_floats=[]):\n",
    "    inputInts=[]\n",
    "    inputFloats=input_floats\n",
    "    inputStrings=[]\n",
    "    inputBuffer=bytearray()\n",
    "    res,retInts,retFloats,retStrings,retBuffer=vrep.simxCallScriptFunction(clientID,object_name,vrep.sim_scripttype_childscript,\n",
    "                function_name,inputInts,inputFloats,inputStrings,inputBuffer,vrep.simx_opmode_blocking)\n",
    "\n",
    "    return res,retInts,retFloats,retStrings,retBuffer\n",
    "    \n",
    "def get_laser_points():\n",
    "    res,retInts,retFloats,retStrings,retBuffer = call_sim_function('LaserScanner_2D', 'get_laser_points')\n",
    "    return retFloats\n",
    "\n",
    "def get_global_path():\n",
    "    res,retInts,retFloats,retStrings,retBuffer = call_sim_function('rwRobot', 'get_global_path')\n",
    "    return retFloats    \n",
    "\n",
    "def step(action):\n",
    "    res,retInts,retFloats,retStrings,retBuffer = call_sim_function('rwRobot', 'step', action)\n",
    "    laser_points = get_laser_points()\n",
    "    reward = 0\n",
    "    is_finish = False\n",
    "    print retBuffer\n",
    "    return laser_points, retFloats, reward, is_finish"
   ]
  },
  {
   "cell_type": "code",
   "execution_count": 30,
   "metadata": {
    "collapsed": true,
    "deletable": true,
    "editable": true
   },
   "outputs": [],
   "source": [
    "def test_callbadk():\n",
    "    inputInts=[1,2,3]\n",
    "    inputFloats=[53.21,17.39]\n",
    "    inputStrings=['Hello','world!']\n",
    "    inputBuffer=bytearray()\n",
    "    res,retInts,retFloats,retStrings,retBuffer=vrep.simxCallScriptFunction(clientID,'rwRobot',vrep.sim_scripttype_childscript,\n",
    "                    'callback',inputInts,inputFloats,inputStrings,inputBuffer,vrep.simx_opmode_blocking)\n",
    "    if res==vrep.simx_return_ok:\n",
    "        print (retInts)\n",
    "        print (retFloats)\n",
    "        print (retStrings)\n",
    "        print (retBuffer)\n",
    "    "
   ]
  },
  {
   "cell_type": "code",
   "execution_count": 32,
   "metadata": {
    "collapsed": false,
    "deletable": true,
    "editable": true
   },
   "outputs": [
    {
     "name": "stdout",
     "output_type": "stream",
     "text": [
      "Program started\n",
      "Connected to remote API server\n",
      "('Connected !! Number of objects in the scene: ', 171)\n",
      "[]\n",
      "[0.10799995064735413, 0.005200028419494629]\n",
      "Program ended\n"
     ]
    }
   ],
   "source": [
    "clientID = connect_vrep()\n",
    "res,objs=vrep.simxGetObjects(clientID,vrep.sim_handle_all,vrep.simx_opmode_oneshot_wait)\n",
    "if res == vrep.simx_return_ok:\n",
    "        print ('Connected !! Number of objects in the scene: ', len(objs))\n",
    "else:\n",
    "        print ('Remote API function call returned with error code: ', res)\n",
    "\n",
    "# laser_points = get_laser_points()\n",
    "# path = get_global_path()\n",
    "\n",
    "\n",
    "# plt.plot(path)\n",
    "# plt.show()\n",
    "\n",
    "# print len(path)\n",
    "\n",
    "new_laser, pose, reward, is_finish = step([1,0,0,-1,-1])\n",
    "print pose\n",
    "disconnect_vrep()"
   ]
  },
  {
   "cell_type": "code",
   "execution_count": null,
   "metadata": {
    "collapsed": true,
    "deletable": true,
    "editable": true
   },
   "outputs": [],
   "source": []
  }
 ],
 "metadata": {
  "kernelspec": {
   "display_name": "Python 2",
   "language": "python",
   "name": "python2"
  },
  "language_info": {
   "codemirror_mode": {
    "name": "ipython",
    "version": 2
   },
   "file_extension": ".py",
   "mimetype": "text/x-python",
   "name": "python",
   "nbconvert_exporter": "python",
   "pygments_lexer": "ipython2",
   "version": "2.7.6"
  }
 },
 "nbformat": 4,
 "nbformat_minor": 2
}
