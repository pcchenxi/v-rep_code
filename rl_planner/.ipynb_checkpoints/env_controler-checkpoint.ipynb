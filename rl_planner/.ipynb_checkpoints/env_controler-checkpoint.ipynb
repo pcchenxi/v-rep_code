{
 "cells": [
  {
   "cell_type": "code",
   "execution_count": 44,
   "metadata": {},
   "outputs": [],
   "source": [
    "#!/usr/bin/env python\n",
    "import sys, os\n",
    "sys.path.append(\"../v-rep_plugin\") \n",
    "import numpy as np\n",
    "\n",
    "## v-rep\n",
    "import vrep\n",
    "\n",
    "import matplotlib.pyplot as plt\n",
    "\n",
    "from time import sleep\n",
    "import math\n"
   ]
  },
  {
   "cell_type": "code",
   "execution_count": 54,
   "metadata": {
    "collapsed": true
   },
   "outputs": [],
   "source": [
    "def connect_vrep():\n",
    "    print ('Program started')\n",
    "    vrep.simxFinish(-1) # just in case, close all opened connections\n",
    "    clientID = vrep.simxStart('127.0.0.1',19999,True,True,5000,5)\n",
    "    if clientID != -1:\n",
    "        print ('Connected to remote API server')\n",
    "    else:\n",
    "        print ('Failed connecting to remote API server')\n",
    "    return clientID"
   ]
  },
  {
   "cell_type": "code",
   "execution_count": 55,
   "metadata": {
    "collapsed": true
   },
   "outputs": [],
   "source": [
    "def disconnect_vrep():\n",
    "    vrep.simxFinish(clientID)\n",
    "    print ('Program ended')"
   ]
  },
  {
   "cell_type": "code",
   "execution_count": 56,
   "metadata": {},
   "outputs": [],
   "source": [
    "def call_sim_function(object_name, function_name, input_floats=[]):\n",
    "    inputInts=[]\n",
    "    inputFloats=input_floats\n",
    "    inputStrings=[]\n",
    "    inputBuffer=bytearray()\n",
    "    res,retInts,retFloats,retStrings,retBuffer=vrep.simxCallScriptFunction(clientID,object_name,vrep.sim_scripttype_childscript,\n",
    "                function_name,inputInts,inputFloats,inputStrings,inputBuffer,vrep.simx_opmode_blocking)\n",
    "\n",
    "    return res,retInts,retFloats,retStrings,retBuffer\n",
    "    \n",
    "def get_laser_points():\n",
    "    res,retInts,retFloats,retStrings,retBuffer = call_sim_function('LaserScanner_2D', 'get_laser_points')\n",
    "    return retFloats\n",
    "\n",
    "def get_global_path():\n",
    "    res,retInts,retFloats,retStrings,retBuffer = call_sim_function('rwRobot', 'get_global_path')\n",
    "    path_dist = []\n",
    "    path_angle = []\n",
    "    for i in range(len(retFloats)):\n",
    "        if i < 2:\n",
    "            continue\n",
    "            \n",
    "        if i%2 == 0:\n",
    "            path_dist.append(retFloats[i])\n",
    "        else:\n",
    "            path_angle.append(retFloats[i])\n",
    "    \n",
    "    return path_dist, path_angle\n"
   ]
  },
  {
   "cell_type": "code",
   "execution_count": 100,
   "metadata": {},
   "outputs": [],
   "source": [
    "def compute_reward(path_dist, reached_index):\n",
    "    reward = -0.1\n",
    "    closest_index = np.argmin(path_dist)\n",
    "    if path_dist[closest_index] < 0.05 and reached_index < closest_index:\n",
    "        reward = reward + 1\n",
    "        reached_index = closest_index\n",
    "    print closest_index, path_dist[closest_index]\n",
    "    return reward, reached_index"
   ]
  },
  {
   "cell_type": "code",
   "execution_count": 104,
   "metadata": {},
   "outputs": [],
   "source": [
    "def step(action, reached_index):\n",
    "    print 'old index: ', reached_index\n",
    "    res,retInts,current_pose,retStrings,retBuffer = call_sim_function('rwRobot', 'step', action)\n",
    "    laser_points = get_laser_points()\n",
    "    path_dist, path_angle = get_global_path()\n",
    "    \n",
    "#     print path_dist\n",
    "#     print path_angle\n",
    "\n",
    "    reward, reached_index = compute_reward(path_dist, reached_index)\n",
    "        \n",
    "    is_finish = False\n",
    "\n",
    "    return laser_points, current_pose, [path_dist, path_angle], reward, reached_index, is_finish"
   ]
  },
  {
   "cell_type": "code",
   "execution_count": 109,
   "metadata": {
    "collapsed": true
   },
   "outputs": [],
   "source": [
    "def test_callbadk():\n",
    "    inputInts=[1,2,3]\n",
    "    inputFloats=[53.21,17.39]\n",
    "    inputStrings=['Hello','world!']\n",
    "    inputBuffer=bytearray()\n",
    "    res,retInts,retFloats,retStrings,retBuffer=vrep.simxCallScriptFunction(clientID,'rwRobot',vrep.sim_scripttype_childscript,\n",
    "                    'callback',inputInts,inputFloats,inputStrings,inputBuffer,vrep.simx_opmode_blocking)\n",
    "#     if res==vrep.simx_return_ok:\n",
    "#         print (retInts)\n",
    "#         print (retFloats)\n",
    "#         print (retStrings)\n",
    "#         print (retBuffer)\n",
    "    "
   ]
  },
  {
   "cell_type": "code",
   "execution_count": 110,
   "metadata": {},
   "outputs": [
    {
     "name": "stdout",
     "output_type": "stream",
     "text": [
      "Program started\n",
      "Connected to remote API server\n",
      "('Connected !! Number of objects in the scene: ', 214)\n"
     ]
    }
   ],
   "source": [
    "clientID = connect_vrep()\n",
    "res,objs=vrep.simxGetObjects(clientID,vrep.sim_handle_all,vrep.simx_opmode_oneshot_wait)\n",
    "if res == vrep.simx_return_ok:\n",
    "        print ('Connected !! Number of objects in the scene: ', len(objs))\n",
    "else:\n",
    "        print ('Remote API function call returned with error code: ', res)\n",
    "\n",
    "reached_index = -1\n",
    "# laser_points = get_laser_points()\n",
    "# path_dist, path_angle = get_global_path()\n",
    "\n",
    "# print path_dist\n",
    "# print path_angle\n",
    "\n",
    "# plt.plot(path)\n",
    "# plt.show()\n",
    "\n",
    "# print len(path)"
   ]
  },
  {
   "cell_type": "code",
   "execution_count": 112,
   "metadata": {},
   "outputs": [
    {
     "name": "stdout",
     "output_type": "stream",
     "text": [
      "[0.17918118834495544, 0.1463853269815445, 0.11387840658426285, 0.08200424909591675, 0.05194155499339104, 0.02979896403849125, 0.035983871668577194, 0.06259815394878387, 0.11421497166156769, 0.1665852963924408, 0.21916936337947845, 0.2718432545661926, 0.32456323504447937, 0.37731000781059265, 0.43007388710975647, 0.4828489422798157, 0.5216302275657654, 0.5604324340820312, 0.5992517471313477, 0.6380847096443176, 0.6769290566444397, 0.7157829999923706, 0.7546452283859253, 0.7935141921043396, 0.8349995613098145, 0.8767228126525879, 0.9186514019966125, 0.9607586860656738, 1.0030219554901123, 1.0454225540161133, 1.0835421085357666, 1.1218057870864868, 1.1601990461349487, 1.1987096071243286, 1.2373263835906982, 1.2760398387908936, 1.3148411512374878, 1.353723168373108, 1.3884162902832031, 1.4232083559036255, 1.458092212677002, 1.4930614233016968, 1.528110146522522, 1.5632328987121582, 1.598425030708313, 1.6336820125579834, 1.6689996719360352, 1.704374074935913, 1.7398020029067993, 1.7752803564071655, 1.8096377849578857, 1.8440468311309814, 1.8785045146942139, 1.9130083322525024, 1.947555661201477, 1.9821441173553467, 2.0167717933654785, 2.05143666267395, 2.086137056350708, 2.120871067047119, 2.155636787414551, 2.1904330253601074, 2.2252583503723145, 2.2601113319396973, 2.2976648807525635, 2.335258722305298, 2.3728911876678467, 2.4105606079101562, 2.448265314102173, 2.4860031604766846, 2.523773431777954, 2.5615739822387695, 2.5994038581848145, 2.6372618675231934, 2.6751465797424316, 2.713057041168213, 2.7509918212890625, 2.7889504432678223, 2.826931953430176, 2.8649349212646484, 2.902959108352661, 2.9410030841827393, 2.9790666103363037, 3.017148733139038, 3.055248737335205, 3.0933659076690674, 3.1314995288848877, 3.169649362564087, 3.2132680416107178, 3.256906032562256, 3.300562620162964, 3.3442373275756836, 3.3879287242889404, 3.4316370487213135, 3.4753611087799072]\n",
      "[0.7609802484512329, 0.7255921363830566, 0.6698954105377197, 0.5703563094139099, 0.3507220149040222, -0.29223841428756714, -1.3382858037948608, 1.3786743879318237, 1.2462458610534668, 1.196608304977417, 1.170748233795166, 1.1549022197723389, 1.1442021131515503, 1.1364929676055908, 1.1306754350662231, 1.1261292695999146, 1.1329591274261475, 1.1388434171676636, 1.143965721130371, 1.148464560508728, 1.1524471044540405, 1.1559972763061523, 1.159182071685791, 1.1620547771453857, 1.1797951459884644, 1.1958515644073486, 1.210445761680603, 1.2237634658813477, 1.235960841178894, 1.247170329093933, 1.259108066558838, 1.270232915878296, 1.2806226015090942, 1.2903457880020142, 1.299462914466858, 1.3080273866653442, 1.3160871267318726, 1.3236842155456543, 1.3323369026184082, 1.3405672311782837, 1.3484041690826416, 1.3558745384216309, 1.3630025386810303, 1.3698105812072754, 1.376319169998169, 1.3825470209121704, 1.3885115385055542, 1.3942286968231201, 1.399713158607483, 1.404978632926941, 1.410414218902588, 1.4156471490859985, 1.420688271522522, 1.42554771900177, 1.4302347898483276, 1.4347584247589111, 1.43912672996521, 1.4433475732803345, 1.4474281072616577, 1.451374888420105, 1.4551945924758911, 1.4588929414749146, 1.4624755382537842, 1.4659476280212402, 1.4702177047729492, 1.4743503332138062, 1.4783519506454468, 1.4822286367416382, 1.4859858751296997, 1.4896291494369507, 1.4931634664535522, 1.4965934753417969, 1.499923586845398, 1.5031582117080688, 1.5063012838363647, 1.5093564987182617, 1.5123274326324463, 1.515217661857605, 1.5180301666259766, 1.5207680463790894, 1.5234342813491821, 1.526031494140625, 1.5285624265670776, 1.531029462814331, 1.5334348678588867, 1.5357811450958252, 1.5380702018737793, 1.5403043031692505, 1.5427924394607544, 1.5452139377593994, 1.5475714206695557, 1.5498673915863037, 1.552104115486145, 1.554283857345581, 1.5564087629318237]\n",
      "5 0.0297989640385\n",
      "5\n"
     ]
    }
   ],
   "source": [
    "new_laser, pose, path, reward, reached_index, is_finish = step([1,1,0,0,0], reached_index)\n",
    "print reached_index"
   ]
  },
  {
   "cell_type": "code",
   "execution_count": null,
   "metadata": {
    "collapsed": true
   },
   "outputs": [],
   "source": [
    "disconnect_vrep()"
   ]
  },
  {
   "cell_type": "code",
   "execution_count": null,
   "metadata": {
    "collapsed": true
   },
   "outputs": [],
   "source": []
  }
 ],
 "metadata": {
  "kernelspec": {
   "display_name": "Python 2",
   "language": "python",
   "name": "python2"
  },
  "language_info": {
   "codemirror_mode": {
    "name": "ipython",
    "version": 2
   },
   "file_extension": ".py",
   "mimetype": "text/x-python",
   "name": "python",
   "nbconvert_exporter": "python",
   "pygments_lexer": "ipython2",
   "version": "2.7.6"
  }
 },
 "nbformat": 4,
 "nbformat_minor": 2
}
