{
 "cells": [
  {
   "cell_type": "code",
   "execution_count": 1,
   "metadata": {},
   "outputs": [],
   "source": [
    "import sys\n",
    "sys.path.append(\"./environment\") \n",
    "\n",
    "import env_vrep\n"
   ]
  },
  {
   "cell_type": "code",
   "execution_count": 2,
   "metadata": {},
   "outputs": [],
   "source": [
    "env_0 = env_vrep.Simu_env(10000)\n",
    "# env_1 = env_vrep.Simu_env(10001)"
   ]
  },
  {
   "cell_type": "code",
   "execution_count": 3,
   "metadata": {},
   "outputs": [
    {
     "name": "stdout",
     "output_type": "stream",
     "text": [
      "Connected to remote API server with port:  10000\n"
     ]
    }
   ],
   "source": [
    "env_0.connect_vrep(True)\n",
    "# env_1.connect_vrep()"
   ]
  },
  {
   "cell_type": "code",
   "execution_count": 4,
   "metadata": {},
   "outputs": [
    {
     "name": "stdout",
     "output_type": "stream",
     "text": [
      "[0, 0, 0, 0, 0] 0 -0.1\n",
      "[0.1468520313501358, 0.2937040328979492, 0.4405560791492462, 0.5874080657958984, 0, [0.1468520313501358, 0.2937040328979492, 0.4405560791492462, 0.5874080657958984, 0]]\n"
     ]
    }
   ],
   "source": [
    "state_, reward, is_finish, info = env_0.reset()\n",
    "# new_laser, pose, path, reward, reached_index, is_finish = env_1.reset()"
   ]
  },
  {
   "cell_type": "code",
   "execution_count": 8,
   "metadata": {},
   "outputs": [
    {
     "name": "stdout",
     "output_type": "stream",
     "text": [
      "[-1, -1, -1, -1, -1] 5 -0.6\n",
      "[0.1960730105638504, 0.34281235933303833, 0.48961928486824036, 0.6364469528198242, 0, [0.1960730105638504, 0.34281235933303833, 0.48961928486824036, 0.6364469528198242, 0]]\n",
      "reward:  -0.6\n"
     ]
    }
   ],
   "source": [
    "# print 'old index: ', reached_index \n",
    "state_, reward, is_finish, info = env_0.step([0])\n",
    "# if is_finish:\n",
    "#     new_laser, pose, path, reward, reached_index, is_finish = env.reset()\n",
    "\n",
    "\n",
    "# print 'new index: ', reached_index\n",
    "print 'reward: ', reward"
   ]
  },
  {
   "cell_type": "code",
   "execution_count": 9,
   "metadata": {},
   "outputs": [
    {
     "name": "stdout",
     "output_type": "stream",
     "text": [
      "Program ended\n"
     ]
    }
   ],
   "source": [
    "env_0.disconnect_vrep()\n",
    "# env_1.disconnect_vrep()"
   ]
  },
  {
   "cell_type": "code",
   "execution_count": null,
   "metadata": {
    "collapsed": true
   },
   "outputs": [],
   "source": []
  }
 ],
 "metadata": {
  "kernelspec": {
   "display_name": "Python 2",
   "language": "python",
   "name": "python2"
  },
  "language_info": {
   "codemirror_mode": {
    "name": "ipython",
    "version": 2
   },
   "file_extension": ".py",
   "mimetype": "text/x-python",
   "name": "python",
   "nbconvert_exporter": "python",
   "pygments_lexer": "ipython2",
   "version": "2.7.6"
  }
 },
 "nbformat": 4,
 "nbformat_minor": 2
}
