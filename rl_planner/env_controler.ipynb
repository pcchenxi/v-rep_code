{
 "cells": [
  {
   "cell_type": "code",
   "execution_count": 44,
   "metadata": {},
   "outputs": [],
   "source": [
    "#!/usr/bin/env python\n",
    "import sys, os\n",
    "sys.path.append(\"../v-rep_plugin\") \n",
    "import numpy as np\n",
    "\n",
    "## v-rep\n",
    "import vrep\n",
    "\n",
    "import matplotlib.pyplot as plt\n",
    "\n",
    "from time import sleep\n",
    "import math\n"
   ]
  },
  {
   "cell_type": "code",
   "execution_count": 54,
   "metadata": {
    "collapsed": true
   },
   "outputs": [],
   "source": [
    "def connect_vrep():\n",
    "    print ('Program started')\n",
    "    vrep.simxFinish(-1) # just in case, close all opened connections\n",
    "    clientID = vrep.simxStart('127.0.0.1',19999,True,True,5000,5)\n",
    "    if clientID != -1:\n",
    "        print ('Connected to remote API server')\n",
    "    else:\n",
    "        print ('Failed connecting to remote API server')\n",
    "    return clientID"
   ]
  },
  {
   "cell_type": "code",
   "execution_count": 55,
   "metadata": {
    "collapsed": true
   },
   "outputs": [],
   "source": [
    "def disconnect_vrep():\n",
    "    vrep.simxFinish(clientID)\n",
    "    print ('Program ended')"
   ]
  },
  {
   "cell_type": "code",
   "execution_count": 56,
   "metadata": {},
   "outputs": [],
   "source": [
    "def call_sim_function(object_name, function_name, input_floats=[]):\n",
    "    inputInts=[]\n",
    "    inputFloats=input_floats\n",
    "    inputStrings=[]\n",
    "    inputBuffer=bytearray()\n",
    "    res,retInts,retFloats,retStrings,retBuffer=vrep.simxCallScriptFunction(clientID,object_name,vrep.sim_scripttype_childscript,\n",
    "                function_name,inputInts,inputFloats,inputStrings,inputBuffer,vrep.simx_opmode_blocking)\n",
    "\n",
    "    return res,retInts,retFloats,retStrings,retBuffer\n",
    "    \n",
    "def get_laser_points():\n",
    "    res,retInts,retFloats,retStrings,retBuffer = call_sim_function('LaserScanner_2D', 'get_laser_points')\n",
    "    return retFloats\n",
    "\n",
    "def get_global_path():\n",
    "    res,retInts,retFloats,retStrings,retBuffer = call_sim_function('rwRobot', 'get_global_path')\n",
    "    path_dist = []\n",
    "    path_angle = []\n",
    "    for i in range(len(retFloats)):\n",
    "        if i < 2:\n",
    "            continue\n",
    "            \n",
    "        if i%2 == 0:\n",
    "            path_dist.append(retFloats[i])\n",
    "        else:\n",
    "            path_angle.append(retFloats[i])\n",
    "    \n",
    "    return path_dist, path_angle\n"
   ]
  },
  {
   "cell_type": "code",
   "execution_count": 100,
   "metadata": {},
   "outputs": [],
   "source": [
    "def compute_reward(path_dist, reached_index):\n",
    "    reward = -0.1\n",
    "    closest_index = np.argmin(path_dist)\n",
    "    if path_dist[closest_index] < 0.05 and reached_index < closest_index:\n",
    "        reward = reward + 1\n",
    "        reached_index = closest_index\n",
    "    print closest_index, path_dist[closest_index]\n",
    "    return reward, reached_index"
   ]
  },
  {
   "cell_type": "code",
   "execution_count": 121,
   "metadata": {},
   "outputs": [],
   "source": [
    "def step(action, reached_index):\n",
    "#     print 'old index: ', reached_index\n",
    "    res,retInts,current_pose,retStrings,retBuffer = call_sim_function('rwRobot', 'step', action)\n",
    "    laser_points = get_laser_points()\n",
    "    path_dist, path_angle = get_global_path()\n",
    "    \n",
    "#     print path_dist\n",
    "#     print path_angle\n",
    "\n",
    "    reward, reached_index = compute_reward(path_dist, reached_index)\n",
    "        \n",
    "    is_finish = False\n",
    "\n",
    "    return laser_points, current_pose, [path_dist, path_angle], reward, reached_index, is_finish"
   ]
  },
  {
   "cell_type": "code",
   "execution_count": 122,
   "metadata": {
    "collapsed": true
   },
   "outputs": [],
   "source": [
    "def test_callbadk():\n",
    "    inputInts=[1,2,3]\n",
    "    inputFloats=[53.21,17.39]\n",
    "    inputStrings=['Hello','world!']\n",
    "    inputBuffer=bytearray()\n",
    "    res,retInts,retFloats,retStrings,retBuffer=vrep.simxCallScriptFunction(clientID,'rwRobot',vrep.sim_scripttype_childscript,\n",
    "                    'callback',inputInts,inputFloats,inputStrings,inputBuffer,vrep.simx_opmode_blocking)\n",
    "#     if res==vrep.simx_return_ok:\n",
    "#         print (retInts)\n",
    "#         print (retFloats)\n",
    "#         print (retStrings)\n",
    "#         print (retBuffer)\n",
    "    "
   ]
  },
  {
   "cell_type": "code",
   "execution_count": 219,
   "metadata": {},
   "outputs": [
    {
     "name": "stdout",
     "output_type": "stream",
     "text": [
      "Program started\n",
      "Connected to remote API server\n",
      "('Connected !! Number of objects in the scene: ', 220)\n"
     ]
    }
   ],
   "source": [
    "clientID = connect_vrep()\n",
    "res,objs=vrep.simxGetObjects(clientID,vrep.sim_handle_all,vrep.simx_opmode_oneshot_wait)\n",
    "if res == vrep.simx_return_ok:\n",
    "        print ('Connected !! Number of objects in the scene: ', len(objs))\n",
    "else:\n",
    "        print ('Remote API function call returned with error code: ', res)\n",
    "\n",
    "reached_index = -1\n",
    "# laser_points = get_laser_points()\n",
    "# path_dist, path_angle = get_global_path()\n",
    "\n",
    "# print path_dist\n",
    "# print path_angle\n",
    "\n",
    "# plt.plot(path)\n",
    "# plt.show()\n",
    "\n",
    "# print len(path)"
   ]
  },
  {
   "cell_type": "code",
   "execution_count": 228,
   "metadata": {},
   "outputs": [
    {
     "name": "stdout",
     "output_type": "stream",
     "text": [
      "3 0.0251347888261\n",
      "-0.1\n"
     ]
    }
   ],
   "source": [
    "new_laser, pose, path, reward, reached_index, is_finish = step([-1,-1,0,0,0], reached_index)\n",
    "# print 'new index: ', reached_index\n",
    "print reward"
   ]
  },
  {
   "cell_type": "code",
   "execution_count": 218,
   "metadata": {},
   "outputs": [
    {
     "name": "stdout",
     "output_type": "stream",
     "text": [
      "Program ended\n"
     ]
    }
   ],
   "source": [
    "disconnect_vrep()"
   ]
  },
  {
   "cell_type": "code",
   "execution_count": null,
   "metadata": {
    "collapsed": true
   },
   "outputs": [],
   "source": []
  }
 ],
 "metadata": {
  "kernelspec": {
   "display_name": "Python 2",
   "language": "python",
   "name": "python2"
  },
  "language_info": {
   "codemirror_mode": {
    "name": "ipython",
    "version": 2
   },
   "file_extension": ".py",
   "mimetype": "text/x-python",
   "name": "python",
   "nbconvert_exporter": "python",
   "pygments_lexer": "ipython2",
   "version": "2.7.6"
  }
 },
 "nbformat": 4,
 "nbformat_minor": 2
}
